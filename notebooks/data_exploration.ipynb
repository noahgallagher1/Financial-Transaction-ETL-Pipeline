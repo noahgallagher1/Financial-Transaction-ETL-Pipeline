This notebook provides exploratory analysis of the ETL pipeline output.

## Setup
```python
import pandas as pd
import sqlite3
from pathlib import Path

# Connect to warehouse
warehouse_db = Path('../data/warehouse/analytics.db')
conn = sqlite3.connect(warehouse_db)
```

## Dimension Tables

### Customers
```python
dim_customers = pd.read_sql("SELECT * FROM dim_customers LIMIT 10", conn)
dim_customers
```

### Merchants
```python
dim_merchants = pd.read_sql("SELECT * FROM dim_merchants LIMIT 10", conn)
dim_merchants
```

### Date Dimension
```python
dim_date = pd.read_sql("SELECT * FROM dim_date LIMIT 10", conn)
dim_date
```

## Fact Table

### Transaction Facts
```python
fact_transactions = pd.read_sql("SELECT * FROM fact_transactions LIMIT 10", conn)
fact_transactions
```

## Analytics

### Transaction Volume Over Time
```python
query = """
SELECT 
    d.date,
    COUNT(f.transaction_id) as transaction_count,
    SUM(f.amount) as total_revenue
FROM fact_transactions f
JOIN dim_date d ON f.date_key = d.date_key
GROUP BY d.date
ORDER BY d.date
"""

df = pd.read_sql(query, conn)

# Plot
import matplotlib.pyplot as plt
plt.figure(figsize=(12, 6))
plt.plot(pd.to_datetime(df['date']), df['total_revenue'])
plt.title('Daily Revenue')
plt.xlabel('Date')
plt.ylabel('Revenue ($)')
plt.xticks(rotation=45)
plt.tight_layout()
plt.show()
```

### Top Customers
```python
query = """
SELECT 
    c.customer_name,
    COUNT(f.transaction_id) as transaction_count,
    ROUND(SUM(f.amount), 2) as total_spent
FROM fact_transactions f
JOIN dim_customers c ON f.customer_key = c.customer_key
GROUP BY c.customer_name
ORDER BY total_spent DESC
LIMIT 10
"""

top_customers = pd.read_sql(query, conn)
top_customers
```

## Close Connection
```python
conn.close()
```
